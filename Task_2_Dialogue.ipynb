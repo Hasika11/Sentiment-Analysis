{
 "cells": [
  {
   "cell_type": "code",
   "execution_count": null,
   "metadata": {},
   "outputs": [],
   "source": [
    "#ASSIGNMENT-1\n",
    "#Task-2: Dialogue Act Recognition\n",
    "#Using Bidirectional LSTM with Keras: Dialogue Act Recognition"
   ]
  },
  {
   "cell_type": "code",
   "execution_count": 1,
   "metadata": {},
   "outputs": [
    {
     "name": "stderr",
     "output_type": "stream",
     "text": [
      "C:\\Users\\hasik\\Anaconda3\\lib\\site-packages\\h5py\\__init__.py:36: FutureWarning: Conversion of the second argument of issubdtype from `float` to `np.floating` is deprecated. In future, it will be treated as `np.float64 == np.dtype(float).type`.\n",
      "  from ._conv import register_converters as _register_converters\n",
      "C:\\Users\\hasik\\Anaconda3\\lib\\site-packages\\gensim\\utils.py:1197: UserWarning: detected Windows; aliasing chunkize to chunkize_serial\n",
      "  warnings.warn(\"detected Windows; aliasing chunkize to chunkize_serial\")\n",
      "Using TensorFlow backend.\n"
     ]
    }
   ],
   "source": [
    "#Importing the libraries\n",
    "import numpy as np\n",
    "import tensorflow as tf\n",
    "from gensim.models import Word2Vec\n",
    "from nltk.corpus import brown\n",
    "from keras.layers.core import Activation, Dense, Dropout, SpatialDropout1D\n",
    "from keras.layers.embeddings import Embedding\n",
    "from keras.layers.recurrent import LSTM\n",
    "from keras.layers import Bidirectional\n",
    "from keras.models import Sequential\n",
    "from keras.preprocessing import sequence\n",
    "from sklearn.model_selection import train_test_split\n",
    "import collections\n",
    "import matplotlib.pyplot as plt\n",
    "import nltk\n",
    "import numpy as np\n",
    "import os"
   ]
  },
  {
   "cell_type": "code",
   "execution_count": 2,
   "metadata": {},
   "outputs": [],
   "source": [
    "from nltk.corpus import nps_chat as nps"
   ]
  },
  {
   "cell_type": "code",
   "execution_count": 3,
   "metadata": {},
   "outputs": [],
   "source": [
    "def get_dialogue_data(output_file):\n",
    "    open(output_file, 'w').close();\n",
    "    tagged_sents=brown.tagged_sents()\n",
    "    with open(output_file,'a') as fileWrite:\n",
    "        for sentence in tagged_sents:\n",
    "            for tuple_word in sentence:\n",
    "                fileWrite.write(tuple_word[0]+'\\t'+tuple_word[1])\n",
    "                fileWrite.write('\\n')\n",
    "                fileWrite.write('\\n')\n",
    "                fileWrite.write('\\n')"
   ]
  },
  {
   "cell_type": "code",
   "execution_count": 4,
   "metadata": {},
   "outputs": [],
   "source": [
    "def get_sentence_data(output_file):\n",
    "    open(output_file,'w').close();\n",
    "    sentences=brown.sents()\n",
    "    with open(output_file,'a') as fileWrite:\n",
    "        for eachSentence in sentences:\n",
    "            fileWrite.write(' '.join(eachSentence))\n",
    "            fileWrite.write('\\n')"
   ]
  },
  {
   "cell_type": "code",
   "execution_count": 5,
   "metadata": {},
   "outputs": [],
   "source": [
    "def get_dialogue_data(output_file):\n",
    "    open(output_file,'w').close();\n",
    "    posts=nps.xml_posts()\n",
    "    with open(output_file,'a') as fileWrite:\n",
    "        for eachPost in posts:\n",
    "            fileWrite.write(eachPost.get('class').lower()+'\\t'+eachPost.text)\n",
    "            fileWrite.write('\\n')"
   ]
  },
  {
   "cell_type": "code",
   "execution_count": 6,
   "metadata": {},
   "outputs": [
    {
     "name": "stdout",
     "output_type": "stream",
     "text": [
      "preparing module\n"
     ]
    }
   ],
   "source": [
    "#print(\"preparing module\")\n",
    "data_folder='C:\\masters\\Applying ML in CL\\Assignment_2\\dialogue'\n",
    "output_file='test.txt'\n",
    "get_dialogue_data(data_folder+'/'+output_file)\n",
    "output_file='data.txt'\n",
    "get_dialogue_data(data_folder+'/'+output_file)\n"
   ]
  },
  {
   "cell_type": "code",
   "execution_count": 7,
   "metadata": {},
   "outputs": [],
   "source": [
    "#Representing the each row of the input as a sequence of word indices.\n",
    "maxlen = 0\n",
    "word_freqs = collections.Counter()\n",
    "num_recs = 0\n",
    "ftrain = open(os.path.join(\"C:\\masters\\Applying ML in CL\\Assignment_2\\dialogue\", \"data.txt\"), 'rb')\n",
    "for line in ftrain:\n",
    "    label, sentence = line.strip().split(b\"\\t\")\n",
    "    words = nltk.word_tokenize(sentence.decode(\"ascii\", \"ignore\").lower())\n",
    "    if len(words) > maxlen:\n",
    "        maxlen = len(words)\n",
    "    for word in words:\n",
    "        word_freqs[word] += 1\n",
    "    num_recs += 1\n",
    "ftrain.close()\n",
    "#print(len(word_freqs))\n"
   ]
  },
  {
   "cell_type": "code",
   "execution_count": 8,
   "metadata": {},
   "outputs": [],
   "source": [
    "MAX_FEATURES = 6000 \n",
    "MAX_SENTENCE_LENGTH = 40\n",
    "vocab_size = min(MAX_FEATURES, len(word_freqs)) + 2\n",
    "word2index = {x[0]: i+2 for i, x in\n",
    "enumerate(word_freqs.most_common(MAX_FEATURES))}\n",
    "word2index[\"PAD\"] = 0\n",
    "word2index[\"UNK\"] = 1\n",
    "index2word = {v:k for k, v in word2index.items()}"
   ]
  },
  {
   "cell_type": "code",
   "execution_count": 9,
   "metadata": {},
   "outputs": [],
   "source": [
    "#Building the Data\n",
    "labels=[]\n",
    "file_name=\"data.txt\"\n",
    "file_path=\"C:\\masters\\Applying ML in CL\\Assignment_2\\dialogue\"\n",
    "with open(os.path.join(file_path,file_name),'r') as fileRead:\n",
    "    for line in fileRead:\n",
    "        l=line.split(\"\\t\")\n",
    "        #print(l[0])\n",
    "        labels.append(l[0])\n",
    "label_set_list=list(set(labels))\n",
    "nos_labels=len(label_set_list)"
   ]
  },
  {
   "cell_type": "code",
   "execution_count": 10,
   "metadata": {},
   "outputs": [],
   "source": [
    "#Building the data sets to feed to the network and converting the input sentences to into a word sequence.\n",
    "X = np.empty((num_recs, ), dtype=list)\n",
    "y = np.zeros((num_recs, nos_labels))\n",
    "i = 0\n",
    "ftrain = open(os.path.join(\"C:\\masters\\Applying ML in CL\\Assignment_2\\dialogue\", \"data.txt\"), 'rb')\n",
    "for line in ftrain:\n",
    "    label, sentence = line.strip().split(b\"\\t\")\n",
    "    words = nltk.word_tokenize(sentence.decode(\"ascii\", \"ignore\").lower())\n",
    "    label=label.decode(\"ascii\",\"ignore\").lower()\n",
    "    seqs = []\n",
    "    dummy_vec=[0]*nos_labels\n",
    "    for word in words:\n",
    "        if word in word2index:\n",
    "            seqs.append(word2index[word])\n",
    "        else:\n",
    "            seqs.append(word2index[\"UNK\"])\n",
    "    X[i] = seqs\n",
    "    dummy_vec[label_set_list.index(label)]=1\n",
    "    y[i]=dummy_vec\n",
    "    i+=1\n",
    "    \n",
    "ftrain.close()\n",
    "X = sequence.pad_sequences(X, maxlen=MAX_SENTENCE_LENGTH)\n"
   ]
  },
  {
   "cell_type": "code",
   "execution_count": 11,
   "metadata": {},
   "outputs": [],
   "source": [
    "#Splitting the Data\n",
    "Xtrain, Xtest, ytrain, ytest = train_test_split(X, y, test_size=0.2, random_state=42)"
   ]
  },
  {
   "cell_type": "code",
   "execution_count": 20,
   "metadata": {},
   "outputs": [],
   "source": [
    "#Defining the model\n",
    "EMBEDDING_SIZE = 128\n",
    "HIDDEN_LAYER_SIZE = 100\n",
    "BATCH_SIZE = 32\n",
    "NUM_EPOCHS = 7\n",
    "model = Sequential()\n",
    "model.add(Embedding(vocab_size, EMBEDDING_SIZE,input_length=MAX_SENTENCE_LENGTH))\n",
    "model.add(Bidirectional(LSTM(HIDDEN_LAYER_SIZE, dropout=0.2, recurrent_dropout=0.2)))\n",
    "#model.add(dropout=0.2)\n",
    "model.add(Dense(nos_labels, activation = \"softmax\") )\n",
    "#model.add(Activation(\"softmax\"))\n",
    "model.compile(loss=\"categorical_crossentropy\", optimizer=\"adam\",metrics=[\"accuracy\"])"
   ]
  },
  {
   "cell_type": "code",
   "execution_count": 21,
   "metadata": {
    "scrolled": false
   },
   "outputs": [
    {
     "name": "stdout",
     "output_type": "stream",
     "text": [
      "Train on 8453 samples, validate on 2114 samples\n",
      "Epoch 1/7\n",
      "8453/8453 [==============================] - 67s 8ms/step - loss: 1.3899 - acc: 0.5858 - val_loss: 0.8872 - val_acc: 0.7455\n",
      "Epoch 2/7\n",
      "8453/8453 [==============================] - 49s 6ms/step - loss: 0.7371 - acc: 0.7944 - val_loss: 0.7032 - val_acc: 0.8103\n",
      "Epoch 3/7\n",
      "8453/8453 [==============================] - 50s 6ms/step - loss: 0.5175 - acc: 0.8602 - val_loss: 0.6728 - val_acc: 0.8231\n",
      "Epoch 4/7\n",
      "8453/8453 [==============================] - 50s 6ms/step - loss: 0.3791 - acc: 0.8945 - val_loss: 0.6953 - val_acc: 0.8217\n",
      "Epoch 5/7\n",
      "8453/8453 [==============================] - 52s 6ms/step - loss: 0.2871 - acc: 0.9185 - val_loss: 0.7671 - val_acc: 0.7928\n",
      "Epoch 6/7\n",
      "8453/8453 [==============================] - 51s 6ms/step - loss: 0.2341 - acc: 0.9338 - val_loss: 0.7322 - val_acc: 0.8273\n",
      "Epoch 7/7\n",
      "8453/8453 [==============================] - 47s 6ms/step - loss: 0.1889 - acc: 0.9465 - val_loss: 0.7566 - val_acc: 0.8236\n"
     ]
    }
   ],
   "source": [
    "#Modelling the data\n",
    "history = model.fit(Xtrain, ytrain, batch_size=BATCH_SIZE, epochs=NUM_EPOCHS,\n",
    "                    validation_data=(Xtest, ytest))"
   ]
  },
  {
   "cell_type": "code",
   "execution_count": 22,
   "metadata": {},
   "outputs": [
    {
     "data": {
      "image/png": "[encoded data removed]",
      "text/plain": [
       "<matplotlib.figure.Figure at 0x13fb7772cf8>"
      ]
     },
     "metadata": {},
     "output_type": "display_data"
    }
   ],
   "source": [
    "#Plotting the model\n",
    "plt.subplot(211)\n",
    "plt.title(\"Accuracy\")\n",
    "plt.plot(history.history[\"acc\"], color=\"g\", label=\"Train\")\n",
    "plt.plot(history.history[\"val_acc\"], color=\"b\", label=\"Validation\")\n",
    "plt.legend(loc=\"best\")\n",
    "plt.subplot(212)\n",
    "plt.title(\"Loss\")\n",
    "plt.plot(history.history[\"loss\"], color=\"g\", label=\"Train\")\n",
    "plt.plot(history.history[\"val_loss\"], color=\"b\", label=\"Validation\")\n",
    "plt.legend(loc=\"best\")\n",
    "plt.tight_layout()\n",
    "plt.show()"
   ]
  }
 ],
 "metadata": {
  "kernelspec": {
   "display_name": "Python 3",
   "language": "python",
   "name": "python3"
  },
  "language_info": {
   "codemirror_mode": {
    "name": "ipython",
    "version": 3
   },
   "file_extension": ".py",
   "mimetype": "text/x-python",
   "name": "python",
   "nbconvert_exporter": "python",
   "pygments_lexer": "ipython3",
   "version": "3.6.4"
  }
 },
 "nbformat": 4,
 "nbformat_minor": 2
}
